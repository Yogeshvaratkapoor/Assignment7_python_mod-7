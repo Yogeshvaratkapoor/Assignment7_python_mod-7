{
  "nbformat": 4,
  "nbformat_minor": 0,
  "metadata": {
    "colab": {
      "provenance": []
    },
    "kernelspec": {
      "name": "python3",
      "display_name": "Python 3"
    },
    "language_info": {
      "name": "python"
    }
  },
  "cells": [
    {
      "cell_type": "markdown",
      "source": [
        "#Theory Questions"
      ],
      "metadata": {
        "id": "QVtkdZy7PNjT"
      }
    },
    {
      "cell_type": "markdown",
      "source": [
        "1. What is the difference between interpreted and compiled languages?\n",
        "\n",
        "- Interpreted languages (like Python) are executed line-by-line by an interpreter.\n",
        "\n",
        "- Compiled languages (like C++) are transformed into machine code before execution using a compiler.\n",
        "\n",
        "2. What is exception handling in Python?\n",
        "- Exception handling lets you catch and handle runtime errors gracefully using try, except, else, and finally blocks.\n",
        "\n",
        "3. What is the purpose of the finally block in exception handling?\n",
        "- The finally block is used to execute code regardless of whether an exception occurred or not, usually for cleanup tasks like closing files or releasing resources.\n",
        "\n",
        "4. What is logging in Python?\n",
        "- Logging is the process of recording events that happen while a program runs. Python’s logging module lets you track events, errors, and warnings for debugging and monitoring.\n",
        "\n",
        "5. What is the significance of the __del__ method in Python?\n",
        "- __del__ is a destructor method called when an object is about to be destroyed. It can be used to clean up resources like files or network connections.\n",
        "\n",
        "6. What is the difference between import and from ... import in Python?\n",
        "\n",
        "- import module brings in the whole module.\n",
        "\n",
        "- from module import name imports only specific attributes or functions from the module.\n",
        "\n",
        "7. How can you handle multiple exceptions in Python?\n",
        "- You can:\n",
        "\n",
        "python\n",
        "Copy\n",
        "Edit\n",
        "try:\n",
        "    # code\n",
        "except (TypeError, ValueError) as e:\n",
        "    print(e)\n",
        "Or handle them separately with multiple except blocks.\n",
        "\n",
        "8. What is the purpose of the with statement when handling files in Python?\n",
        "- The with statement ensures proper resource management. It automatically closes the file after exiting the block, even if an error occurs.\n",
        "\n",
        "9. What is the difference between multithreading and multiprocessing?\n",
        "\n",
        "- Multithreading uses multiple threads in the same process (good for I/O-bound tasks).\n",
        "\n",
        "- Multiprocessing uses multiple processes (better for CPU-bound tasks as each process has its own memory space).\n",
        "\n",
        "10. What are the advantages of using logging in a program?\n",
        "\n",
        "- Helps debug and track issues\n",
        "\n",
        " Provides runtime insights\n",
        "\n",
        " Allows log level control (INFO, DEBUG, ERROR)\n",
        "\n",
        " Logs can be stored in files for future analysis\n",
        "\n",
        "11. What is memory management in Python?\n",
        "- Python uses automatic memory management which includes reference counting and\n",
        " garbage collection to allocate and free memory.\n",
        "\n",
        "12. What are the basic steps involved in exception handling in Python?\n",
        "\n",
        "- Use try block to wrap risky code\n",
        "\n",
        " Use except block to handle exceptions\n",
        "\n",
        " Optionally use else for code that runs if no error occurs\n",
        "\n",
        " Use finally for cleanup actions\n",
        "\n",
        "13. Why is memory management important in Python?\n",
        "- Efficient memory management prevents memory leaks and ensures optimal\n",
        " performance, especially in large applications.\n",
        "\n",
        "14. What is the role of try and except in exception handling?\n",
        "\n",
        "- try: Wraps code that may raise an exception\n",
        "\n",
        "   except: Catches and handles the exception, preventing the program from crashing\n",
        "\n",
        "15. How does Python's garbage collection system work?\n",
        "- Python uses reference counting and a cyclic garbage collector to automatically detect and free memory used by objects that are no longer needed."
      ],
      "metadata": {
        "id": "uRuNIu7oPSmN"
      }
    },
    {
      "cell_type": "markdown",
      "source": [
        "16. What is the purpose of the else block in exception handling?\n",
        "- The else block in Python's exception handling structure is used to define a set of statements that should be executed only if no exception occurs in the try block. It acts as a clean-up area where you can confidently write logic that depends on the success of the try block. This helps in keeping the try block concise and separates normal logic from error-handling logic, improving readability and maintainability.\n",
        "\n",
        "17. What are the common logging levels in Python?\n",
        "- Python’s logging module defines several standard logging levels to indicate the severity of events. These levels, in increasing order of severity, are: DEBUG, INFO, WARNING, ERROR, and CRITICAL. DEBUG is used for detailed diagnostic output, INFO for general events, WARNING for events that might cause problems, ERROR for serious problems, and CRITICAL for very severe issues that might prevent the program from continuing.\n",
        "\n",
        "18. What is the difference between os.fork() and multiprocessing in Python?\n",
        "- The os.fork() method is specific to Unix-like systems and creates a new child process by duplicating the current process, giving both processes separate memory spaces. On the other hand, the multiprocessing module is a high-level, cross-platform interface for spawning processes. It provides better support for process management, inter-process communication, and avoids platform-specific limitations, making it the preferred approach for writing portable and scalable Python code.\n",
        "\n",
        "19. What is the importance of closing a file in Python?\n",
        "- Closing a file in Python is crucial because it ensures that all data written to the file is properly flushed and saved, and system resources like file descriptors are released. Failing to close a file can lead to data corruption, file locking issues, or memory leaks, especially when dealing with many open files or large applications. Using the with statement is a best practice as it automatically closes files after their use.\n",
        "\n",
        "20. What is the difference between file.read() and file.readline() in Python?\n",
        "- The file.read() method reads the entire contents of a file into a single string, which is useful when you want to process everything at once. In contrast, file.readline() reads just one line at a time, which is more memory-efficient for large files or when processing files line by line. Choosing between the two depends on the file size and the nature of the data processing task.\n",
        "\n",
        "21. What is the logging module in Python used for?\n",
        "- The logging module in Python is used to track events that occur during program execution. It provides a flexible framework for emitting log messages from Python programs and supports writing logs to different destinations like the console, files, or external systems. This helps in debugging, monitoring, and maintaining applications by providing insights into the flow and health of the program without interrupting its execution.\n",
        "\n",
        "22. What is the os module in Python used for in file handling?\n",
        "- The os module in Python provides a way to interact with the operating system and perform file system operations like creating, deleting, renaming, or moving files and directories. It also allows you to retrieve file properties, navigate directory structures, and handle path-related tasks. This makes it essential for automating and managing file-related tasks in scripts and applications.\n",
        "\n",
        "23. What are the challenges associated with memory management in Python?\n",
        "- Although Python automates memory management through garbage collection and reference counting, challenges still arise such as memory leaks caused by circular references, keeping large unused objects in memory, or improper use of global variables. Performance issues may also result from inefficient memory allocation, particularly in data-intensive applications. Developers need to monitor memory usage and use tools like gc and memory profilers to avoid such problems.\n",
        "\n",
        "24. How do you raise an exception manually in Python?\n",
        "- To raise an exception manually in Python, you use the raise statement followed by an exception type. For example, raise ValueError(\"Invalid input\") will trigger a ValueError with the specified message. This is useful when you want to enforce certain conditions in your code or create custom error messages for better clarity and debugging.\n",
        "\n",
        "25. Why is it important to use multithreading in certain applications?\n",
        "- Multithreading is important in applications that involve I/O-bound tasks such as file operations, network requests, or user interactions, where the program would otherwise remain idle waiting for an operation to complete. By using threads, these tasks can run concurrently, improving responsiveness and performance. Although Python’s Global Interpreter Lock (GIL) can limit true parallel execution, multithreading still allows better utilization of time in such scenarios."
      ],
      "metadata": {
        "id": "lMHGQyCdQnJG"
      }
    },
    {
      "cell_type": "markdown",
      "source": [
        "#Practical Questions"
      ],
      "metadata": {
        "id": "hPJjwiM-Q3n2"
      }
    },
    {
      "cell_type": "code",
      "source": [
        "# 1F How can you open a file for writing in Python and write a string to it\n",
        "with open(\"example1.txt\", \"w\") as file:\n",
        "    file.write(\"This is a sample string written to the file.\\n\")\n"
      ],
      "metadata": {
        "id": "nE0CqMQJQ8At"
      },
      "execution_count": 1,
      "outputs": []
    },
    {
      "cell_type": "code",
      "source": [
        "# 2F Write a Python program to read the contents of a file and print each line\n",
        "with open(\"example1.txt\", \"r\") as file:\n",
        "    for line in file:\n",
        "        print(line.strip())"
      ],
      "metadata": {
        "colab": {
          "base_uri": "https://localhost:8080/"
        },
        "id": "1hPiEF90Rcbr",
        "outputId": "18aba97a-61af-45e1-e327-1436f9e82bee"
      },
      "execution_count": 2,
      "outputs": [
        {
          "output_type": "stream",
          "name": "stdout",
          "text": [
            "This is a sample string written to the file.\n"
          ]
        }
      ]
    },
    {
      "cell_type": "code",
      "source": [
        "# 3F How would you handle a case where the file doesn't exist while trying to open it for reading\n",
        "try:\n",
        "    with open(\"non_existent_file.txt\", \"r\") as file:\n",
        "        content = file.read()\n",
        "except FileNotFoundError:\n",
        "    print(\"File does not exist.\")"
      ],
      "metadata": {
        "colab": {
          "base_uri": "https://localhost:8080/"
        },
        "id": "2htRXc5hRh7V",
        "outputId": "3a498baa-014e-4e57-f9dd-dc6b5114bfdf"
      },
      "execution_count": 3,
      "outputs": [
        {
          "output_type": "stream",
          "name": "stdout",
          "text": [
            "File does not exist.\n"
          ]
        }
      ]
    },
    {
      "cell_type": "code",
      "source": [
        "# 4F Write a Python script that reads from one file and writes its content to another file\n",
        "with open(\"example1.txt\", \"r\") as source, open(\"example_copy.txt\", \"w\") as destination:\n",
        "    for line in source:\n",
        "        destination.write(line)"
      ],
      "metadata": {
        "id": "ZzzDSQtERlft"
      },
      "execution_count": 4,
      "outputs": []
    },
    {
      "cell_type": "code",
      "source": [
        "# 5F How would you catch and handle division by zero error in Python\n",
        "try:\n",
        "    result = 10 / 0\n",
        "except ZeroDivisionError:\n",
        "    print(\"Cannot divide by zero.\")\n"
      ],
      "metadata": {
        "colab": {
          "base_uri": "https://localhost:8080/"
        },
        "id": "XneMjFK-RpoE",
        "outputId": "426030e6-ab32-4b7b-96f8-9b4c48923757"
      },
      "execution_count": 5,
      "outputs": [
        {
          "output_type": "stream",
          "name": "stdout",
          "text": [
            "Cannot divide by zero.\n"
          ]
        }
      ]
    },
    {
      "cell_type": "code",
      "source": [
        "# 6F Write a Python program that logs an error message to a log file when a division by zero exception occurs\n",
        "import logging\n",
        "\n",
        "logging.basicConfig(filename=\"error.log\", level=logging.ERROR)\n",
        "try:\n",
        "    result = 10 / 0\n",
        "except ZeroDivisionError as e:\n",
        "    logging.error(\"Division by zero error occurred: %s\", e)"
      ],
      "metadata": {
        "colab": {
          "base_uri": "https://localhost:8080/"
        },
        "id": "s4PgJivwRplG",
        "outputId": "688e7e07-7e09-46da-cef5-991c30fd9a63"
      },
      "execution_count": 6,
      "outputs": [
        {
          "output_type": "stream",
          "name": "stderr",
          "text": [
            "ERROR:root:Division by zero error occurred: division by zero\n"
          ]
        }
      ]
    },
    {
      "cell_type": "code",
      "source": [
        "# 7F How do you log information at different levels (INFO, ERROR, WARNING) in Python using the logging module\n",
        "logging.basicConfig(filename=\"log_levels.log\", level=logging.DEBUG)\n",
        "logging.info(\"This is an info message.\")\n",
        "logging.warning(\"This is a warning message.\")\n",
        "logging.error(\"This is an error message.\")"
      ],
      "metadata": {
        "colab": {
          "base_uri": "https://localhost:8080/"
        },
        "id": "OY4FcSZkRphm",
        "outputId": "17c575c1-307a-4104-dabd-436fe464e8b4"
      },
      "execution_count": 7,
      "outputs": [
        {
          "output_type": "stream",
          "name": "stderr",
          "text": [
            "WARNING:root:This is a warning message.\n",
            "ERROR:root:This is an error message.\n"
          ]
        }
      ]
    },
    {
      "cell_type": "code",
      "source": [
        "# 8F Write a program to handle a file opening error using exception handling\n",
        "try:\n",
        "    with open(\"somefile.txt\", \"r\") as file:\n",
        "        data = file.read()\n",
        "except IOError:\n",
        "    print(\"An error occurred while opening the file.\")"
      ],
      "metadata": {
        "colab": {
          "base_uri": "https://localhost:8080/"
        },
        "id": "DroKzzMGRpeM",
        "outputId": "a77a8c8f-fb97-40e5-a514-5870b8a4444f"
      },
      "execution_count": 8,
      "outputs": [
        {
          "output_type": "stream",
          "name": "stdout",
          "text": [
            "An error occurred while opening the file.\n"
          ]
        }
      ]
    },
    {
      "cell_type": "code",
      "source": [
        "# 9F How can you read a file line by line and store its content in a list in Python\n",
        "with open(\"example1.txt\", \"r\") as file:\n",
        "    lines_list = file.readlines()\n",
        "print(lines_list)"
      ],
      "metadata": {
        "colab": {
          "base_uri": "https://localhost:8080/"
        },
        "id": "gPHPKkIdRpaT",
        "outputId": "d152b890-15cb-4c0a-95f0-047934b22c39"
      },
      "execution_count": 9,
      "outputs": [
        {
          "output_type": "stream",
          "name": "stdout",
          "text": [
            "['This is a sample string written to the file.\\n']\n"
          ]
        }
      ]
    },
    {
      "cell_type": "code",
      "source": [
        "# 10F How can you append data to an existing file in Python\n",
        "with open(\"example1.txt\", \"a\") as file:\n",
        "    file.write(\"Appending a new line to the existing file.\\n\")"
      ],
      "metadata": {
        "id": "x0KYPGwCR8n3"
      },
      "execution_count": 12,
      "outputs": []
    },
    {
      "cell_type": "code",
      "source": [
        "# 11F Write a Python program that uses a try-except block to handle an error when attempting to access a dictionary key that doesn't exist\n",
        "try:\n",
        "    my_dict = {\"name\": \"Alice\"}\n",
        "    print(my_dict[\"age\"])\n",
        "except KeyError:\n",
        "    print(\"Key does not exist in the dictionary.\")\n"
      ],
      "metadata": {
        "colab": {
          "base_uri": "https://localhost:8080/"
        },
        "id": "-azII3taSdRW",
        "outputId": "4f56d844-47b4-4c0c-a668-2b8c548bbad3"
      },
      "execution_count": 13,
      "outputs": [
        {
          "output_type": "stream",
          "name": "stdout",
          "text": [
            "Key does not exist in the dictionary.\n"
          ]
        }
      ]
    },
    {
      "cell_type": "code",
      "source": [
        "# 12F Write a program that demonstrates using multiple except blocks to handle different types of exceptions\n",
        "try:\n",
        "    x = int(\"abc\")\n",
        "    y = 10 / 0\n",
        "except ValueError:\n",
        "    print(\"ValueError occurred.\")\n",
        "except ZeroDivisionError:\n",
        "    print(\"ZeroDivisionError occurred.\")\n"
      ],
      "metadata": {
        "colab": {
          "base_uri": "https://localhost:8080/"
        },
        "id": "jH1falO5Sdb4",
        "outputId": "55ffbbef-ee44-4bdb-aee1-107039bf272a"
      },
      "execution_count": 14,
      "outputs": [
        {
          "output_type": "stream",
          "name": "stdout",
          "text": [
            "ValueError occurred.\n"
          ]
        }
      ]
    },
    {
      "cell_type": "code",
      "source": [
        "# 13F How would you check if a file exists before attempting to read it in Python\n",
        "import os\n",
        "if os.path.exists(\"example1.txt\"):\n",
        "    with open(\"example1.txt\", \"r\") as file:\n",
        "        print(file.read())\n",
        "else:\n",
        "    print(\"File does not exist.\")\n"
      ],
      "metadata": {
        "colab": {
          "base_uri": "https://localhost:8080/"
        },
        "id": "Q7j9byGrSdgK",
        "outputId": "d890ef95-8016-4019-8662-b03ed9920f52"
      },
      "execution_count": 15,
      "outputs": [
        {
          "output_type": "stream",
          "name": "stdout",
          "text": [
            "This is a sample string written to the file.\n",
            "Appending a new line to the existing file.\n",
            "Appending a new line to the existing file.\n",
            "Appending a new line to the existing file.\n",
            "\n"
          ]
        }
      ]
    },
    {
      "cell_type": "code",
      "source": [
        "# 14F Write a program that uses the logging module to log both informational and error messages\n",
        "import logging\n",
        "logging.basicConfig(filename=\"info_error.log\", level=logging.DEBUG)\n",
        "logging.info(\"Program started successfully.\")\n",
        "try:\n",
        "    result = 5 / 0\n",
        "except ZeroDivisionError:\n",
        "    logging.error(\"Attempted division by zero.\")"
      ],
      "metadata": {
        "colab": {
          "base_uri": "https://localhost:8080/"
        },
        "id": "BmxOy-wwSdj7",
        "outputId": "024db3be-de93-4c94-ed94-95c62da92586"
      },
      "execution_count": 16,
      "outputs": [
        {
          "output_type": "stream",
          "name": "stderr",
          "text": [
            "ERROR:root:Attempted division by zero.\n"
          ]
        }
      ]
    },
    {
      "cell_type": "code",
      "source": [
        "# 15F Write a Python program that prints the content of a file and handles the case when the file is empty\n",
        "try:\n",
        "    with open(\"example1.txt\", \"r\") as file:\n",
        "        content = file.read()\n",
        "        if content:\n",
        "            print(content)\n",
        "        else:\n",
        "            print(\"The file is empty.\")\n",
        "except FileNotFoundError:\n",
        "    print(\"File not found.\")"
      ],
      "metadata": {
        "colab": {
          "base_uri": "https://localhost:8080/"
        },
        "id": "1rXIX0nxSq0w",
        "outputId": "535aa1e8-2014-4f35-ce39-36db62409a99"
      },
      "execution_count": 17,
      "outputs": [
        {
          "output_type": "stream",
          "name": "stdout",
          "text": [
            "This is a sample string written to the file.\n",
            "Appending a new line to the existing file.\n",
            "Appending a new line to the existing file.\n",
            "Appending a new line to the existing file.\n",
            "\n"
          ]
        }
      ]
    },
    {
      "cell_type": "code",
      "source": [
        "# 16F Demonstrate how to use memory profiling to check the memory usage of a small program\n",
        "\n",
        "def simple_function():\n",
        "    a = [i for i in range(10000)]\n",
        "    return sum(a)\n",
        "\n",
        "simple_function()"
      ],
      "metadata": {
        "colab": {
          "base_uri": "https://localhost:8080/"
        },
        "id": "b5qzy1fpSq4L",
        "outputId": "dc2fb352-20c0-4b99-b093-7762eb4147aa"
      },
      "execution_count": 20,
      "outputs": [
        {
          "output_type": "execute_result",
          "data": {
            "text/plain": [
              "49995000"
            ]
          },
          "metadata": {},
          "execution_count": 20
        }
      ]
    },
    {
      "cell_type": "code",
      "source": [
        "# 17F Write a Python program to create and write a list of numbers to a file, one number per line\n",
        "numbers = [1, 2, 3, 4, 5]\n",
        "with open(\"numbers.txt\", \"w\") as file:\n",
        "    for number in numbers:\n",
        "        file.write(str(number) + \"\\n\")"
      ],
      "metadata": {
        "id": "z3I0i0MaSq71"
      },
      "execution_count": 21,
      "outputs": []
    },
    {
      "cell_type": "code",
      "source": [
        "# 18F How would you implement a basic logging setup that logs to a file with rotation after 1MB\n",
        "from logging.handlers import RotatingFileHandler\n",
        "rotating_logger = logging.getLogger(\"RotatingLogger\")\n",
        "rotating_logger.setLevel(logging.INFO)\n",
        "handler = RotatingFileHandler(\"rotating.log\", maxBytes=1048576, backupCount=3)\n",
        "rotating_logger.addHandler(handler)\n",
        "rotating_logger.info(\"This is a rotating log entry.\")"
      ],
      "metadata": {
        "colab": {
          "base_uri": "https://localhost:8080/"
        },
        "id": "CRU0YuH7Sq_d",
        "outputId": "811cb5f8-cc2b-4523-fd86-5eacb5e786f4"
      },
      "execution_count": 22,
      "outputs": [
        {
          "output_type": "stream",
          "name": "stderr",
          "text": [
            "INFO:RotatingLogger:This is a rotating log entry.\n"
          ]
        }
      ]
    },
    {
      "cell_type": "code",
      "source": [
        "# 19F Write a program that handles both IndexError and KeyError using a try-except block\n",
        "try:\n",
        "    my_list = [1, 2, 3]\n",
        "    print(my_list[5])\n",
        "    my_dict = {\"a\": 1}\n",
        "    print(my_dict[\"b\"])\n",
        "except IndexError:\n",
        "    print(\"IndexError occurred.\")\n",
        "except KeyError:\n",
        "    print(\"KeyError occurred.\")"
      ],
      "metadata": {
        "colab": {
          "base_uri": "https://localhost:8080/"
        },
        "id": "AlkMSh83SrDE",
        "outputId": "2633cf04-226f-4a80-b1e5-4fcd1ac95f64"
      },
      "execution_count": 23,
      "outputs": [
        {
          "output_type": "stream",
          "name": "stdout",
          "text": [
            "IndexError occurred.\n"
          ]
        }
      ]
    },
    {
      "cell_type": "code",
      "source": [
        "# 20F How would you open a file and read its contents using a context manager in Python\n",
        "with open(\"example1.txt\", \"r\") as file:\n",
        "    print(file.read())"
      ],
      "metadata": {
        "colab": {
          "base_uri": "https://localhost:8080/"
        },
        "id": "wbbW8MRJSdnS",
        "outputId": "6e7e8791-3f3c-4bc1-fc0c-f2f555c5157b"
      },
      "execution_count": 24,
      "outputs": [
        {
          "output_type": "stream",
          "name": "stdout",
          "text": [
            "This is a sample string written to the file.\n",
            "Appending a new line to the existing file.\n",
            "Appending a new line to the existing file.\n",
            "Appending a new line to the existing file.\n",
            "\n"
          ]
        }
      ]
    },
    {
      "cell_type": "code",
      "source": [
        "# 21F Write a Python program that reads a file and prints the number of occurrences of a specific word\n",
        "word_to_count = \"the\"\n",
        "count = 0\n",
        "with open(\"example1.txt\", \"r\") as file:\n",
        "    for line in file:\n",
        "        count += line.lower().split().count(word_to_count)\n",
        "print(f\"The word '{word_to_count}' occurred {count} times.\")"
      ],
      "metadata": {
        "colab": {
          "base_uri": "https://localhost:8080/"
        },
        "id": "wPpov5aTTJ2G",
        "outputId": "57d7a7c6-8ec4-4831-c860-cbcde0bc7abe"
      },
      "execution_count": 25,
      "outputs": [
        {
          "output_type": "stream",
          "name": "stdout",
          "text": [
            "The word 'the' occurred 4 times.\n"
          ]
        }
      ]
    },
    {
      "cell_type": "code",
      "source": [
        "# 22F How can you check if a file is empty before attempting to read its contents\n",
        "if os.path.exists(\"example1.txt\") and os.path.getsize(\"example1.txt\") > 0:\n",
        "    with open(\"example1.txt\", \"r\") as file:\n",
        "        print(file.read())\n",
        "else:\n",
        "    print(\"File is either empty or does not exist.\")"
      ],
      "metadata": {
        "colab": {
          "base_uri": "https://localhost:8080/"
        },
        "id": "AseDpGxwTJyn",
        "outputId": "53057188-2539-4f33-9ad6-265330ac32cc"
      },
      "execution_count": 26,
      "outputs": [
        {
          "output_type": "stream",
          "name": "stdout",
          "text": [
            "This is a sample string written to the file.\n",
            "Appending a new line to the existing file.\n",
            "Appending a new line to the existing file.\n",
            "Appending a new line to the existing file.\n",
            "\n"
          ]
        }
      ]
    },
    {
      "cell_type": "code",
      "source": [
        "# 23F Write a Python program that writes to a log file when an error occurs during file handling\n",
        "try:\n",
        "    with open(\"some_invalid_file.txt\", \"r\") as file:\n",
        "        content = file.read()\n",
        "except Exception as e:\n",
        "    logging.basicConfig(filename=\"file_error.log\", level=logging.ERROR)\n",
        "    logging.error(\"Error occurred while handling the file: %s\", e)"
      ],
      "metadata": {
        "colab": {
          "base_uri": "https://localhost:8080/"
        },
        "id": "3scD7uWQTJvZ",
        "outputId": "955dc729-81ae-4eba-844f-1923194ae86c"
      },
      "execution_count": 27,
      "outputs": [
        {
          "output_type": "stream",
          "name": "stderr",
          "text": [
            "ERROR:root:Error occurred while handling the file: [Errno 2] No such file or directory: 'some_invalid_file.txt'\n"
          ]
        }
      ]
    }
  ]
}